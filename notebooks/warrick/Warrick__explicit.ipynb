{
  "cells": [
    {
      "cell_type": "markdown",
      "source": [
        "## Warrick Benchmark (Explicit Scheme)  \n",
        "**Richards’ Equation (mixed θ-form):**  \n",
        "$$\n",
        "\\frac{\\partial \\theta}{\\partial t}\n",
        "\\;-\\;\\frac{\\partial}{\\partial z}\\Bigl[K(\\psi)\\,\\frac{\\partial \\psi}{\\partial z}\\Bigr]\n",
        "\\;-\\;\\frac{\\partial K(\\psi)}{\\partial z}\n",
        "\\;=\\;0\n",
        "$$\n",
        "- θ = volumetric water content [–]  \n",
        "- ψ = pressure head [cm]  \n",
        "- K(ψ) = hydraulic conductivity [cm/s]  \n",
        "\n",
        "**Benchmark setup (Warrick, 2003):**  \n",
        "- Soil column depth = 120 cm, discretised every 5 cm (nz = 25)  \n",
        "- Initial ψ = –202.5 cm (dry profile)  \n",
        "- Top boundary: ponded ψ = 0 cm, bottom: unit gradient (no-flow)  \n",
        "- Compare explicit mixed (θ-based) scheme at different Δt  "
      ],
      "metadata": {
        "id": "XTe9THWyWPgW"
      }
    },
    {
      "cell_type": "markdown",
      "metadata": {
        "id": "xO3dFrcLn3cI"
      },
      "source": [
        "# INPUT DATA AND MODEL SETUP"
      ]
    },
    {
      "cell_type": "code",
      "execution_count": null,
      "metadata": {
        "id": "8CitVeSfuORa"
      },
      "outputs": [],
      "source": [
        "import numpy as np\n",
        "import matplotlib.pyplot as plt\n",
        "\n",
        "# —— INPUT SECTION ——\n",
        "# Grid definition\n",
        "nz = 25         # number of vertical nodes\n",
        "dz = 5          # spatial step [cm]\n",
        "\n",
        "wet  = 0.495    # upper (ponded) moisture content [-]\n",
        "dry  = 0.24     # initial (dry) moisture content [-]\n",
        "thr  = 0.124    # residual water content θr [-]\n",
        "ths  = 0.495    # saturated water content θs [-]\n",
        "alpha = 0.015   # inverse air-entry suction α [1/cm]\n",
        "rksat = 1.23e-5 # saturated conductivity Ks [cm/s]\n",
        "avg = 0         # 0 = arithmetic average, 1 = geometric average\n",
        "\n",
        "# rm & rn relate to the van Genuchten m and n parameters: n = 1/(1 - m)\n",
        "rm = 0.5\n",
        "rn = 1 / (1 - rm)\n",
        "\n",
        "# —— HYDRAULIC FUNCTIONS ——\n",
        "def condf(th):\n",
        "    \"\"\"\n",
        "    Compute hydraulic conductivity K(th) from moisture θ:\n",
        "      - If θ ≥ θs → K = Ks (saturated)\n",
        "      - Else:\n",
        "          xx = (θ - θr)/(θs - θr)  [effective saturation]\n",
        "          K = Ks * xx^0.5 * [1 - (1 - xx^(1/rm))^rm]^2\n",
        "    th: current moisture content [-]\n",
        "    returns: K [cm/s]\n",
        "    \"\"\"\n",
        "    if th >= ths:\n",
        "        return rksat\n",
        "    xx = (th - thr) / (ths - thr)\n",
        "    return rksat * (xx**0.5) * (1 - (1 - xx**(1/rm))**rm)**2\n",
        "\n",
        "def headf(th):\n",
        "    \"\"\"\n",
        "    Compute pressure head ψ(th) from moisture θ:\n",
        "      - If θ ≥ θs → ψ = 0 (saturated)\n",
        "      - Else:\n",
        "          xx = (θ - θr)/(θs - θr)\n",
        "          ψ = -[xx^(-1/rm) - 1]^(1/rn) / α\n",
        "    th: current moisture content [-]\n",
        "    returns: ψ [cm]\n",
        "    \"\"\"\n",
        "    if th >= ths:\n",
        "        return 0.0\n",
        "    xx = (th - thr) / (ths - thr)\n",
        "    return -(xx**(-1/rm) - 1)**(1/rn) / alpha\n",
        "\n",
        "# —— EXPLICIT FD UPDATE FUNCTION ——\n",
        "def update(dry, dt, dtdz, dz, nz, wet, water):\n",
        "    \"\"\"\n",
        "    One time-step update of moisture array `water` via explicit θ-form scheme.\n",
        "    Arguments:\n",
        "      dry     : initial dry moisture [-]\n",
        "      dt      : time step [s]\n",
        "      dtdz    : dt/dz ratio [s/cm]\n",
        "      dz      : spatial step [cm]\n",
        "      nz      : number of nodes\n",
        "      wet     : ponded moisture at top [-]\n",
        "      water   : numpy array of current θ values [-]\n",
        "    Returns:\n",
        "      Updated `water` array after one dt.\n",
        "    \"\"\"\n",
        "    darcy = np.zeros(nz)   # Darcy flux array\n",
        "\n",
        "    # Top boundary conductivity/head for first flux\n",
        "    h_old = headf(wet)     # ψ at surface\n",
        "    c_old = condf(wet)     # K at surface\n",
        "\n",
        "    # Compute fluxes at midpoints (i-0.5)\n",
        "    for iz in range(1, nz + 1):\n",
        "        h_new = headf(water[iz - 1])  # ψ at node\n",
        "        c_new = condf(water[iz - 1])  # K at node\n",
        "\n",
        "        # Arithmetic (avg=0) vs geometric average of conductivity\n",
        "        if avg == 0:\n",
        "            cond = 0.5 * (c_old + c_new)\n",
        "        else:\n",
        "            cond = np.sqrt(c_old * c_new)\n",
        "\n",
        "        # Darcy flux: -K [dψ/dz - 1] at midpoint\n",
        "        darcy[iz - 1] = -cond * ((h_new - h_old) / dz - 1)\n",
        "\n",
        "        # Prepare for next midpoint\n",
        "        h_old, c_old = h_new, c_new\n",
        "\n",
        "    # Update moisture via divergence of flux\n",
        "    for iz in range(1, nz):\n",
        "        dwater = -dtdz * (darcy[iz] - darcy[iz - 1])\n",
        "        water[iz - 1] += dwater\n",
        "\n",
        "    # Bottom boundary: mirror next-to-last value (no-flow)\n",
        "    water[nz - 1] = water[nz - 2]\n",
        "\n",
        "    return water"
      ]
    },
    {
      "cell_type": "markdown",
      "metadata": {
        "id": "axf9Sy-Un_ow"
      },
      "source": [
        "# SIMULATION RUN"
      ]
    },
    {
      "cell_type": "code",
      "execution_count": null,
      "metadata": {
        "colab": {
          "base_uri": "https://localhost:8080/",
          "height": 641
        },
        "id": "19Dp6tb4uORm",
        "outputId": "7fe9dca2-26cd-434c-fac2-8805882fe07e"
      },
      "outputs": [
        {
          "output_type": "display_data",
          "data": {
            "text/plain": [
              "<Figure size 700x700 with 1 Axes>"
            ],
            "image/png": "[encoded data removed]"
          },
          "metadata": {}
        }
      ],
      "source": [
        "# List of dt values to run the simulation for\n",
        "dt_values = [1800, 900, 300, 1]\n",
        "\n",
        "# Lists to store results for plotting\n",
        "z_values_list = []\n",
        "water_values_list = []\n",
        "head_values_list = []\n",
        "\n",
        "for dt in dt_values:\n",
        "    dtdz = dt / dz\n",
        "    water = np.zeros(nz)  # Initialize water content array\n",
        "\n",
        "    # Set water array values (Initial condition)\n",
        "    for iz in range(1, nz+1):\n",
        "        water[iz - 1] = dry\n",
        "\n",
        "    # Run the simulation\n",
        "    sim_time = 360000 # Simulation time in seconds\n",
        "    t = 0  # set time to 0 and it will run until the simulation time\n",
        "\n",
        "    z_values = []\n",
        "    water_values = []\n",
        "    head_values = []\n",
        "\n",
        "    while t < sim_time:\n",
        "        t += dt\n",
        "\n",
        "        run = update(dry, dt, dtdz, dz, nz, wet, water)\n",
        "\n",
        "        # Append z, moisture, and head values for plotting (for the last time step)\n",
        "        z_values = np.hstack([0, [iz * dz for iz in range(1, nz + 1)]])\n",
        "        head_values = np.hstack([headf(wet), [headf(water[iz - 1]) for iz in range(1, nz + 1)]])\n",
        "        water_values = np.hstack([wet, [water[iz - 1] for iz in range(1, nz + 1)]])\n",
        "\n",
        "        # Break out of the loop if the next time step exceeds sim_time\n",
        "        if t >= sim_time:\n",
        "            break\n",
        "\n",
        "    # Append results for this dt value to the lists\n",
        "    z_values_list.append(z_values)\n",
        "    water_values_list.append(water_values)\n",
        "    head_values_list.append(head_values)\n",
        "\n",
        "# Plotting pressure head for all dt values\n",
        "plt.figure(figsize=(7, 7))\n",
        "\n",
        "for i, dt in enumerate(dt_values):\n",
        "    if dt == 1:\n",
        "        # Plot with a dashed line for dt=1\n",
        "        plt.plot(head_values_list[i], z_values_list[i], label=f'dt = {dt}', linestyle='--', dashes=(4, 6))\n",
        "    else:\n",
        "        # Plot with a solid line for other dt values\n",
        "        plt.plot(head_values_list[i], z_values_list[i], label=f'dt = {dt}')\n",
        "\n",
        "plt.xlabel('Pressure head (cm)')\n",
        "plt.ylabel('Depth (cm)')\n",
        "plt.title('Explicit scheme (no iteration)')\n",
        "plt.gca().invert_yaxis()\n",
        "plt.legend()\n",
        "plt.grid(True)\n",
        "plt.show()"
      ]
    },
    {
      "cell_type": "code",
      "execution_count": null,
      "metadata": {
        "colab": {
          "base_uri": "https://localhost:8080/"
        },
        "id": "WHZAB2_juOTh",
        "outputId": "134c9472-dca7-4955-e46c-2ec14e627bdc"
      },
      "outputs": [
        {
          "output_type": "stream",
          "name": "stdout",
          "text": [
            "    Depth (cm)  Moisture content (-)  Pressure head (cm)\n",
            "0            0              0.495000            0.000000\n",
            "1            5              0.494847           -1.918045\n",
            "2           10              0.494226           -4.313174\n",
            "3           15              0.492749           -7.378260\n",
            "4           20              0.489662          -11.433153\n",
            "5           25              0.483415          -17.062280\n",
            "6           30              0.470532          -25.491088\n",
            "7           35              0.442470          -39.838377\n",
            "8           40              0.380495          -69.670179\n",
            "9           45              0.282949         -140.601360\n",
            "10          50              0.242197         -198.352111\n",
            "11          55              0.240056         -202.418834\n",
            "12          60              0.240001         -202.525461\n",
            "13          65              0.240000         -202.528053\n",
            "14          70              0.240000         -202.528114\n",
            "15          75              0.240000         -202.528116\n",
            "16          80              0.240000         -202.528116\n",
            "17          85              0.240000         -202.528116\n",
            "18          90              0.240000         -202.528116\n",
            "19          95              0.240000         -202.528116\n",
            "20         100              0.240000         -202.528116\n",
            "21         105              0.240000         -202.528116\n",
            "22         110              0.240000         -202.528116\n",
            "23         115              0.240000         -202.528116\n",
            "24         120              0.240000         -202.528116\n",
            "25         125              0.240000         -202.528116\n"
          ]
        }
      ],
      "source": [
        "# —— EXPORT RESULTS ——\n",
        "import pandas as pd\n",
        "\n",
        "# Convert arrays to dataframes\n",
        "z_df = pd.DataFrame({'Depth (cm)': z_values})\n",
        "theta_df = pd.DataFrame({'Moisture content (-)': water_values})\n",
        "psi_df = pd.DataFrame({'Pressure head (cm)': head_values})\n",
        "\n",
        "# Concatenate dataframes along columns\n",
        "simulation_df = pd.concat([z_df, theta_df, psi_df], axis=1)\n",
        "\n",
        "# Display the dataframe\n",
        "print(simulation_df)"
      ]
    },
    {
      "cell_type": "code",
      "execution_count": null,
      "metadata": {
        "id": "18XUU7cVTq0U"
      },
      "outputs": [],
      "source": []
    }
  ],
  "metadata": {
    "colab": {
      "provenance": []
    },
    "kernelspec": {
      "display_name": "Python 3 (ipykernel)",
      "language": "python",
      "name": "python3"
    },
    "language_info": {
      "codemirror_mode": {
        "name": "ipython",
        "version": 3
      },
      "file_extension": ".py",
      "mimetype": "text/x-python",
      "name": "python",
      "nbconvert_exporter": "python",
      "pygments_lexer": "ipython3",
      "version": "3.11.5"
    }
  },
  "nbformat": 4,
  "nbformat_minor": 0
}