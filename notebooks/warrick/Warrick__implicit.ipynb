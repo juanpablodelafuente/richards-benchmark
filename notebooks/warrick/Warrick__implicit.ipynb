{
  "cells": [
    {
      "cell_type": "markdown",
      "source": [
        "# Implicit Richards’ Equation Solver (ψ‑based)\n",
        "**Governing equation (ψ‑form):**\n",
        "$$\n",
        "C(\\psi)\\,\\frac{\\partial \\psi}{\\partial t}\n",
        "\\;-\\;\\frac{\\partial}{\\partial z}\\Bigl[K(\\psi)\\,\\frac{\\partial \\psi}{\\partial z}\\Bigr]\n",
        "\\;-\\;\\frac{\\partial K(\\psi)}{\\partial z}\n",
        "\\;=\\;0\n",
        "$$\n",
        "\n",
        "- **ψ** = pressure head [cm]  \n",
        "- **θ(ψ)** = volumetric water content [–]  \n",
        "- **C(ψ)=dθ/dψ** = specific moisture capacity [1/cm]  \n",
        "- **K(ψ)** = unsaturated hydraulic conductivity [cm/s]  \n",
        "\n",
        "**Soil model:** van Genuchten–Mualem, parameters below.  \n",
        "**Domain:** 125 cm depth (25 intervals of 5 cm)  \n",
        "**Time:** up to 360 000 s (100 h), test Δt = [100,1000,2000] s  \n",
        "**BCs:** top ponded ψ=0 cm, bottom fixed ψ=–202.528 cm  \n",
        "**IC:** ψ=–202.528 cm initially"
      ],
      "metadata": {
        "id": "tbciDTFabZY5"
      }
    },
    {
      "cell_type": "markdown",
      "source": [
        "# INPUT DATA AND MODEL SETUP"
      ],
      "metadata": {
        "id": "JSYIce0mfO97"
      }
    },
    {
      "cell_type": "code",
      "execution_count": 1,
      "metadata": {
        "id": "3n4OTLLGY78n"
      },
      "outputs": [],
      "source": [
        "import numpy as np\n",
        "import pandas as pd\n",
        "import matplotlib.pyplot as plt\n",
        "\n",
        "# ——— 1. DEFINE SOIL PARAMETERS ———\n",
        "def setpars():\n",
        "    \"\"\"Return van Genuchten–Mualem soil params in a dict.\"\"\"\n",
        "    pars = {}\n",
        "    pars['thetaR'] = 0.124     # residual water content [-]\n",
        "    pars['thetaS'] = 0.495     # saturated water content [-]\n",
        "    pars['alpha']  = 0.015     # inverse air-entry suction [1/cm]\n",
        "    pars['m']      = 0.5       # VG shape param m = 1 - 1/n\n",
        "    pars['n']      = 2.0       # VG shape param n\n",
        "    pars['Ks']     = 1.23e-5   # saturated hydraulic conductivity [cm/s]\n",
        "    return pars\n",
        "\n",
        "# ——— 2. GRID & INITIAL/B.C. SETUP ———\n",
        "def setup(dt):\n",
        "    pars = setpars()\n",
        "    # Spatial grid\n",
        "    zN = 125              # total depth [cm]\n",
        "    dz = 5                # grid spacing [cm]\n",
        "    z  = np.arange(dz, zN, dz)  # exclude surface itself\n",
        "    n  = len(z)           # number of nodes\n",
        "    # Temporal grid\n",
        "    tN = 360000           # total simulation time [s]\n",
        "    t  = np.arange(0, tN+dt, dt)\n",
        "    nt = len(t)\n",
        "    # Allocate psi array (nt × n)\n",
        "    psi = np.zeros((nt, n))\n",
        "    psi[0, :] = -202.528116   # initial head hydrostatic\n",
        "    # Boundary heads\n",
        "    psiB = -202.528116  # bottom fixed head [cm]\n",
        "    psiT = 0.0          # top ponded head [cm]\n",
        "    return z, t, dz, n, nt, zN, psi, psiB, psiT, pars\n",
        "\n",
        "# ——— 3. van Genuchten FUNCTIONS ———\n",
        "def Cfun(psi, pars):\n",
        "    \"\"\"\n",
        "    Specific moisture capacity C(ψ) = dθ/dψ.\n",
        "    C = (θs-θr) * α n m (α|ψ|)^(n-1) / [1+(α|ψ|)^n]^(m+1).\n",
        "    \"\"\"\n",
        "    θr, θs = pars['thetaR'], pars['thetaS']\n",
        "    α, n, m = pars['alpha'], pars['n'], pars['m']\n",
        "    x3 = 1.0 + (α*np.abs(psi))**n\n",
        "    x2 = x3**(m+1)\n",
        "    x1 = α*n*m * (α*np.abs(psi))**(n-1) / x2\n",
        "    return (θs - θr) * x1\n",
        "\n",
        "def Kfun(psi, pars):\n",
        "    \"\"\"\n",
        "    Hydraulic conductivity K(ψ).\n",
        "    Formula: Ks * [1 - (α|ψ|)^(n-1)/(1+(α|ψ|)^n)^m]^2 / (1+(α|ψ|)^n)^(m/2)\n",
        "    \"\"\"\n",
        "    α, n, m, Ks = pars['alpha'], pars['n'], pars['m'], pars['Ks']\n",
        "    x6 = 1.0 + (α*np.abs(psi))**n\n",
        "    x5 = x6**(m*0.5)\n",
        "    x4 = (α*np.abs(psi))**(n-1) * x6**(-m)\n",
        "    x3 = 1.0 - x4\n",
        "    x2 = x3**2\n",
        "    return Ks * (x2 / x5)\n",
        "\n",
        "def thetafun(psi, pars):\n",
        "    \"\"\"\n",
        "    Volumetric water content θ(ψ).\n",
        "    θ = θr + (θs-θr)/(1+(α|ψ|)^n)^m\n",
        "    \"\"\"\n",
        "    θr, θs = pars['thetaR'], pars['thetaS']\n",
        "    α, n, m = pars['alpha'], pars['n'], pars['m']\n",
        "    x3 = 1.0 + (α*np.abs(psi))**n\n",
        "    return θr + (θs - θr) / (x3**m)\n",
        "\n",
        "# ——— 4. IMPLICIT SOLVER ———\n",
        "def solverfun(psi, C, Kmid, dt, dz, n, psiT, psiB):\n",
        "    \"\"\"\n",
        "    Assemble and solve A ψ^(n+1)=y for implicit FD.\n",
        "    - a,b,c are tridiagonal diag arrays.\n",
        "    - y includes flux divergence and BC corrections.\n",
        "    \"\"\"\n",
        "    a = np.zeros(n)  # lower diag\n",
        "    b = np.zeros(n)  # main diag\n",
        "    c = np.zeros(n)  # upper diag\n",
        "    y = np.zeros(n)  # RHS\n",
        "\n",
        "    # Fill diagonals\n",
        "    a[1:]  = -Kmid[1:-1] * dt / (C[1:] * dz**2)\n",
        "    b[:]   = 1 + (Kmid[:-1]+Kmid[1:]) * dt / (C*dz**2)\n",
        "    c[:-1] = -Kmid[1:-1] * dt / (C[:-1] * dz**2)\n",
        "\n",
        "    # Assemble A\n",
        "    A = np.diag(a[1:], -1) + np.diag(b,0) + np.diag(c[:-1],1)\n",
        "\n",
        "    # RHS: ψ^n + (K_i+1 - K_i)*(dt/(C*dz))\n",
        "    y[:] = psi + (Kmid[1:] - Kmid[:-1]) * dt / (C*dz)\n",
        "\n",
        "    # Dirichlet BC injection\n",
        "    y[0]  += psiB * Kmid[0]   * dt / (C[0]   * dz**2)\n",
        "    y[-1] += psiT * Kmid[-1]  * dt / (C[-1]  * dz**2)\n",
        "\n",
        "    # Solve linear system\n",
        "    return np.linalg.solve(A, y)\n",
        "\n",
        "def iterfun(psiin, pars, psiT, psiB, dt, dz, n):\n",
        "    \"\"\"\n",
        "    One implicit time-step update:\n",
        "      1) compute C(ψ^n)\n",
        "      2) compute K on BC+nodes\n",
        "      3) build mid-point Kmid\n",
        "      4) solve for ψ^(n+1)\n",
        "    \"\"\"\n",
        "    psiiter = psiin.copy()\n",
        "    C_val   = Cfun(psiiter, pars)\n",
        "    K_all   = Kfun(np.hstack([psiB, psiiter, psiT]), pars)\n",
        "    Kmid    = (K_all[1:] + K_all[:-1]) / 2.0\n",
        "    return solverfun(psiiter, C_val, Kmid, dt, dz, n, psiT, psiB)\n",
        "\n",
        "def ModelRun(dt, dz, n, nt, psi, psiB, psiT, pars):\n",
        "    \"\"\"Advance through all time levels using iterfun.\"\"\"\n",
        "    for j in range(1, nt):\n",
        "        psi[j,:] = iterfun(psi[j-1,:], pars, psiT, psiB, dt, dz, n)\n",
        "    return psi"
      ]
    },
    {
      "cell_type": "markdown",
      "source": [
        "# SIMULATION RUN"
      ],
      "metadata": {
        "id": "hOjrOLmkfCJ1"
      }
    },
    {
      "cell_type": "code",
      "execution_count": 3,
      "metadata": {
        "colab": {
          "base_uri": "https://localhost:8080/",
          "height": 718
        },
        "id": "evhJGN6fY78s",
        "outputId": "e5818b39-15a7-40e6-a7af-06cac273f8d2"
      },
      "outputs": [
        {
          "output_type": "display_data",
          "data": {
            "text/plain": [
              "<Figure size 1500x800 with 1 Axes>"
            ],
            "image/png": "[encoded data removed]"
          },
          "metadata": {}
        }
      ],
      "source": [
        "# ——— 5. RUN & PLOT ———\n",
        "dt=np.array([100, 1000, 2000]) # Define different dt values\n",
        "\n",
        "psi_results = {}\n",
        "\n",
        "plt.figure(figsize=(15, 8))\n",
        "\n",
        "for dti in dt:\n",
        "    # build grids & init psi\n",
        "    z,t,dz,n,nt,zN,psi,psiB,psiT,pars=setup(dti)\n",
        "    psi = ModelRun(dti,dz,n,nt,psi,psiB,psiT,pars)\n",
        "    # extract and plot final profile\n",
        "    z=np.hstack([0,z,zN])\n",
        "    z=z[-1]-z\n",
        "    psi=np.hstack([psiB,psi[-1,:],psiT]) # Solve for psi\n",
        "\n",
        "    psi_results[dti] = psi # Store psi values in the dictionary\n",
        "\n",
        "    plt.plot(psi, z, label=f'dt = {dti} s')\n",
        "\n",
        "plt.ylabel('Depth (cm)')\n",
        "plt.xlabel('Pressure head (cm)')\n",
        "plt.gca().invert_yaxis()\n",
        "plt.title('Implicit scheme')\n",
        "plt.legend()  # Show legend with dti values\n",
        "plt.grid(True)\n",
        "plt.show()"
      ]
    },
    {
      "cell_type": "markdown",
      "source": [
        "# RESULTS FOR ALL VARIABLES (theta, psi and K) AT LAST DEFINED TIME STEP (dt)"
      ],
      "metadata": {
        "id": "Xf0pyCd_fWOu"
      }
    },
    {
      "cell_type": "code",
      "execution_count": 4,
      "metadata": {
        "colab": {
          "base_uri": "https://localhost:8080/"
        },
        "id": "GE9FpmbrY78v",
        "outputId": "61d69bb6-1a48-4dfa-f58d-f56db0340e57"
      },
      "outputs": [
        {
          "output_type": "stream",
          "name": "stdout",
          "text": [
            "      z         100        1000        2000\n",
            "25    0    0.000000    0.000000    0.000000\n",
            "24    5   -1.917218   -1.909341   -1.899761\n",
            "23   10   -4.311417   -4.294584   -4.273934\n",
            "22   15   -7.375477   -7.348585   -7.315172\n",
            "21   20  -11.429318  -11.391720  -11.344019\n",
            "20   25  -17.057670  -17.011077  -16.949464\n",
            "19   30  -25.487268  -25.444142  -25.379266\n",
            "18   35  -39.843127  -39.870101  -39.869121\n",
            "17   40  -69.718119  -70.119422  -70.504571\n",
            "16   45 -140.771192 -142.234914 -143.723366\n",
            "15   50 -198.379189 -198.604900 -198.818854\n",
            "14   55 -202.419282 -202.422967 -202.426257\n",
            "13   60 -202.525464 -202.525483 -202.525489\n",
            "12   65 -202.528053 -202.528052 -202.528050\n",
            "11   70 -202.528115 -202.528114 -202.528114\n",
            "10   75 -202.528116 -202.528116 -202.528116\n",
            "9    80 -202.528116 -202.528116 -202.528116\n",
            "8    85 -202.528116 -202.528116 -202.528116\n",
            "7    90 -202.528116 -202.528116 -202.528116\n",
            "6    95 -202.528116 -202.528116 -202.528116\n",
            "5   100 -202.528116 -202.528116 -202.528116\n",
            "4   105 -202.528116 -202.528116 -202.528116\n",
            "3   110 -202.528116 -202.528116 -202.528116\n",
            "2   115 -202.528116 -202.528116 -202.528116\n",
            "1   120 -202.528116 -202.528116 -202.528116\n",
            "0   125 -202.528116 -202.528116 -202.528116\n"
          ]
        }
      ],
      "source": [
        "# ——— 6. OUTPUT TABLE ———\n",
        "df_psi = pd.DataFrame(psi_results)  # Convert psi_results to DataFrame\n",
        "\n",
        "# Add the 'z' values as the first column\n",
        "df_psi.insert(0, 'z', z)\n",
        "df_psi = df_psi.iloc[::-1]\n",
        "\n",
        "print(df_psi)"
      ]
    }
  ],
  "metadata": {
    "kernelspec": {
      "display_name": "Python 3",
      "language": "python",
      "name": "python3"
    },
    "language_info": {
      "codemirror_mode": {
        "name": "ipython",
        "version": 3
      },
      "file_extension": ".py",
      "mimetype": "text/x-python",
      "name": "python",
      "nbconvert_exporter": "python",
      "pygments_lexer": "ipython3",
      "version": "3.8.5"
    },
    "colab": {
      "provenance": []
    }
  },
  "nbformat": 4,
  "nbformat_minor": 0
}